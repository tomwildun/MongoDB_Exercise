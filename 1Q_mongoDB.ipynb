{
 "cells": [
  {
   "cell_type": "code",
   "execution_count": 93,
   "id": "beb3c111-8b80-4de8-a8b7-9a90eb265fa8",
   "metadata": {
    "tags": []
   },
   "outputs": [],
   "source": [
    "# Import dependencies\n",
    "from pymongo import MongoClient\n",
    "import pandas as pd\n",
    "from pprint import pprint\n",
    "import datetime"
   ]
  },
  {
   "cell_type": "code",
   "execution_count": 54,
   "id": "8446c179-4094-45c1-b3b2-d8bd9f660f8a",
   "metadata": {
    "tags": []
   },
   "outputs": [],
   "source": [
    "# Create an Instance of MongoClient\n",
    "mongo = MongoClient(port=27017)"
   ]
  },
  {
   "cell_type": "code",
   "execution_count": 55,
   "id": "bf274c7f-1925-4909-9d6b-364362f748a7",
   "metadata": {
    "tags": []
   },
   "outputs": [
    {
     "name": "stdout",
     "output_type": "stream",
     "text": [
      "['admin', 'config', 'local', 'met', 'sample_mflix', 'uk_food']\n"
     ]
    }
   ],
   "source": [
    "# Confirm new dB was created, list all databases\n",
    "databases = mongo.list_database_names()\n",
    "pprint(databases)"
   ]
  },
  {
   "cell_type": "code",
   "execution_count": 56,
   "id": "9e0c635c-bd24-4c0c-b0f7-acbdce886bc4",
   "metadata": {},
   "outputs": [],
   "source": [
    "# Assign the sample_mflix to a variable name \n",
    "db = mongo['sample_mflix']"
   ]
  },
  {
   "cell_type": "code",
   "execution_count": 57,
   "id": "b68f6aa7-ed47-4ad8-b20f-87bd6f507544",
   "metadata": {
    "tags": []
   },
   "outputs": [
    {
     "name": "stdout",
     "output_type": "stream",
     "text": [
      "['users', 'theaters', 'movies', 'sessions', 'comments']\n"
     ]
    }
   ],
   "source": [
    "# Review the collections in our new database \n",
    "collections = db.list_collection_names()\n",
    "pprint(collections)"
   ]
  },
  {
   "cell_type": "code",
   "execution_count": 89,
   "id": "647e7ca0-5e39-4da4-878a-300731770a16",
   "metadata": {
    "tags": []
   },
   "outputs": [],
   "source": [
    "# assign the collections to variables\n",
    "users = db['users']\n",
    "theaters = db['theaters']\n",
    "movies = db['movies']\n",
    "sessions = db['sessions']\n",
    "comments = db['comments']"
   ]
  },
  {
   "cell_type": "markdown",
   "id": "59b2ea43-7c25-41fc-8d14-65517310b0c5",
   "metadata": {},
   "source": [
    "# Simple Query 1\n",
    "**What are the 10 most recent movie releases in the database? The result should show only the movie title and release date."
   ]
  },
  {
   "cell_type": "code",
   "execution_count": 69,
   "id": "b69c04ca-11dd-494d-8f7f-8359d5ecc0de",
   "metadata": {
    "tags": []
   },
   "outputs": [
    {
     "name": "stdout",
     "output_type": "stream",
     "text": [
      "title: 'The Treasure', released date: 2016-03-23\n",
      "title: 'Knight of Cups', released date: 2016-03-04\n",
      "title: 'Sand Castles', released date: 2016-03-01\n",
      "title: 'Shut In', released date: 2016-02-19\n",
      "title: 'Dègradè', released date: 2016-02-10\n",
      "title: 'The Monkey King', released date: 2016-02-08\n",
      "title: 'Land and Shade', released date: 2016-01-27\n",
      "title: 'Beauty and the Beast', released date: 2016-01-20\n",
      "title: 'Remember', released date: 2016-01-15\n",
      "title: 'Bang Gang (A Modern Love Story)', released date: 2016-01-13\n"
     ]
    }
   ],
   "source": [
    "# OPTION 1:\n",
    "# Fetch the 10 most recent movie releases (movie title, release date)\n",
    "query = {} #select all docs\n",
    "projection = {'title': 1, 'released': 1, '_id': 0} # Projection: Include title and release date, exclude _id\n",
    "sort_criteria = [('released', -1)] # Sort by release date in descending order \n",
    "limit_value = 10 # limit to 10\n",
    "\n",
    "# Fetch and format in a concise loop\n",
    "for movie in movies.find(query, projection).sort(sort_criteria).limit(limit_value):\n",
    "    formatted_date = movie['released'].strftime('%Y-%m-%d') if 'released' in movie else 'Unknown'\n",
    "    print(f\"title: '{movie['title']}', released date: {formatted_date}\")"
   ]
  },
  {
   "cell_type": "code",
   "execution_count": 95,
   "id": "f348d546-3779-48e1-9905-311f37db8595",
   "metadata": {},
   "outputs": [
    {
     "name": "stdout",
     "output_type": "stream",
     "text": [
      "title: 'The Treasure', released date: 2016-03-23\n",
      "title: 'Knight of Cups', released date: 2016-03-04\n",
      "title: 'Sand Castles', released date: 2016-03-01\n",
      "title: 'Shut In', released date: 2016-02-19\n",
      "title: 'Dègradè', released date: 2016-02-10\n",
      "title: 'The Monkey King', released date: 2016-02-08\n",
      "title: 'Land and Shade', released date: 2016-01-27\n",
      "title: 'Beauty and the Beast', released date: 2016-01-20\n",
      "title: 'Remember', released date: 2016-01-15\n",
      "title: 'Bang Gang (A Modern Love Story)', released date: 2016-01-13\n"
     ]
    }
   ],
   "source": [
    "# OPTION 1:\n",
    "# Ensure only documents with a valid 'released' date are considered\n",
    "query = {\"released\": {\"$exists\": True, \"$type\": \"date\"}}\n",
    "fields = {'title': 1, 'released': 1, '_id': 0} # Include title and release date, exclude _id\n",
    "sort_criteria = [('released', -1)] # Sort by release date in descending order\n",
    "limit_value = 10 # Limit to 10\n",
    "\n",
    "# Fetch and format in a concise loop\n",
    "for movie in movies.find(query, fields).sort(sort_criteria).limit(limit_value):\n",
    "    formatted_date = movie['released'].strftime('%Y-%m-%d') if 'released' in movie else 'Unknown'\n",
    "    print(f\"title: '{movie['title']}', released date: {formatted_date}\")"
   ]
  },
  {
   "cell_type": "code",
   "execution_count": 98,
   "id": "0c14aa7e-bdce-4f69-9a73-980d09de6aad",
   "metadata": {
    "tags": []
   },
   "outputs": [
    {
     "name": "stdout",
     "output_type": "stream",
     "text": [
      "Title: 'The Treasure', Released Date: 2016-03-23\n",
      "Title: 'Knight of Cups', Released Date: 2016-03-04\n",
      "Title: 'Sand Castles', Released Date: 2016-03-01\n",
      "Title: 'Shut In', Released Date: 2016-02-19\n",
      "Title: 'Dègradè', Released Date: 2016-02-10\n",
      "Title: 'The Monkey King', Released Date: 2016-02-08\n",
      "Title: 'Land and Shade', Released Date: 2016-01-27\n",
      "Title: 'Beauty and the Beast', Released Date: 2016-01-20\n",
      "Title: 'Remember', Released Date: 2016-01-15\n",
      "Title: 'Bang Gang (A Modern Love Story)', Released Date: 2016-01-13\n"
     ]
    }
   ],
   "source": [
    "# OPTION 2:\n",
    "# Confirming 10 most recently released movies\n",
    "query =  {\"released\": {\"$exists\": True, \"$ne\": None}}  # Ensure the released field exists and is not null\n",
    "fields = {\"title\": 1, \"released\": 1, \"_id\": 0}\n",
    "sort = [(\"released\", -1)]\n",
    "\n",
    "# Cast the results as a list and save them to a variable\n",
    "results = list(movies.find(query, fields).sort(sort).limit(10))\n",
    "\n",
    "for movie in results:\n",
    "    # Format the 'released' date\n",
    "    formatted_date = movie['released'].strftime('%Y-%m-%d')\n",
    "    print(f\"Title: '{movie['title']}', Released Date: {formatted_date}\")"
   ]
  },
  {
   "cell_type": "markdown",
   "id": "bad0ae79-8c0b-4cf6-b741-94f3508939ba",
   "metadata": {},
   "source": [
    "# Simple Query 2:\n",
    "**How many movies did Harrison Ford appear in in the 1990s?"
   ]
  },
  {
   "cell_type": "code",
   "execution_count": 43,
   "id": "1f0dd518-f5d4-445d-90b7-c9108a38c179",
   "metadata": {
    "tags": []
   },
   "outputs": [
    {
     "data": {
      "text/plain": [
       "23539"
      ]
     },
     "execution_count": 43,
     "metadata": {},
     "output_type": "execute_result"
    }
   ],
   "source": [
    "movies.count_documents({})"
   ]
  },
  {
   "cell_type": "code",
   "execution_count": 46,
   "id": "d45998cf-ff67-49a8-a7e4-869db2dab866",
   "metadata": {
    "tags": []
   },
   "outputs": [
    {
     "data": {
      "text/plain": [
       "8"
      ]
     },
     "execution_count": 46,
     "metadata": {},
     "output_type": "execute_result"
    }
   ],
   "source": [
    "# Count of movies w Harrsion Ford during the 1990's\n",
    "query = {'cast': 'Harrison Ford',\n",
    "        'year': {'$gte': 1990, '$lte': 1999}}\n",
    "\n",
    "movies.count_documents(query)"
   ]
  },
  {
   "cell_type": "markdown",
   "id": "0cca3363-8d34-4b01-b12a-0a517a784e1d",
   "metadata": {},
   "source": [
    "# Simple Query 3:\n",
    "**Which movie involving a horse has the longest runtime?"
   ]
  },
  {
   "cell_type": "code",
   "execution_count": 75,
   "id": "11e62e91-95b7-42c7-addf-ccc50f74e143",
   "metadata": {
    "tags": []
   },
   "outputs": [
    {
     "name": "stdout",
     "output_type": "stream",
     "text": [
      "Title: Ryan's Daughter, Runtime: 206 minutes\n"
     ]
    }
   ],
   "source": [
    "# Define a query that looks for the mention of \"horse\" in the plot\n",
    "query = {\n",
    "    \"$or\": [\n",
    "        {\"plot\": {\"$regex\": \"horse\", \"$options\": \"i\"}},\n",
    "        {\"fullplot\": {\"$regex\": \"horse\", \"$options\": \"i\"}}\n",
    "    ]\n",
    "}\n",
    "# Sort by runtime in descending order and limit to 1 to get the longest movie\n",
    "for movie in movies.find(query).sort(\"runtime\", -1).limit(1):\n",
    "    print(f\"Title: {movie.get('title', 'Unknown')}, Runtime: {movie.get('runtime', 'Unknown')} minutes\")"
   ]
  },
  {
   "cell_type": "markdown",
   "id": "ba2ea531-ad73-4acd-b70f-b3aacb13dfcb",
   "metadata": {},
   "source": [
    "**This query identified 'horseback' in the Fullplot. If we want to get the word 'horse' or 'horses' then we should alter our code. "
   ]
  },
  {
   "cell_type": "code",
   "execution_count": 76,
   "id": "7a67653b-37c5-49f3-ab41-8432d923be7f",
   "metadata": {
    "tags": []
   },
   "outputs": [
    {
     "name": "stdout",
     "output_type": "stream",
     "text": [
      "Title: Giant, Runtime: 201 minutes\n"
     ]
    }
   ],
   "source": [
    "# Create a text index on the 'plot' and 'fullplot' fields\n",
    "movies.create_index([(\"plot\", \"text\"), (\"fullplot\", \"text\")])\n",
    "\n",
    "#text search query\n",
    "query = {\"$text\": {\"$search\": \"horse horses\"}}\n",
    "for movie in movies.find(query).sort(\"runtime\", -1).limit(1):\n",
    "    print(f\"Title: {movie.get('title', 'Unknown')}, Runtime: {movie.get('runtime', 'Unknown')} minutes\")"
   ]
  },
  {
   "cell_type": "markdown",
   "id": "db776656-18f0-492d-83f6-454edb2d9f92",
   "metadata": {},
   "source": [
    "# Complex Query 1:\n",
    "**What is the highest rated (based on IMDB ratings) movie for each year since 1970? HINT: The imdb.rating field does not use a consistent data type; you will need to account for this."
   ]
  },
  {
   "cell_type": "code",
   "execution_count": 71,
   "id": "b9f8776b-db4a-4ae4-beb5-2e2e337283fd",
   "metadata": {
    "tags": []
   },
   "outputs": [
    {
     "name": "stdout",
     "output_type": "stream",
     "text": [
      "     _id  highestRating                                              title\n",
      "0   1970            8.3                                  Michael the Brave\n",
      "1   1971            8.4                                 A Clockwork Orange\n",
      "2   1972            9.2                                      The Godfather\n",
      "3   1973            8.5                             Scenes from a Marriage\n",
      "4   1974            9.1                             The Godfather: Part II\n",
      "5   1975            8.7                    One Flew Over the Cuckoo's Nest\n",
      "6   1976            9.0                                        I, Claudius\n",
      "7   1977            8.7                                  Jesus of Nazareth\n",
      "8   1978            8.7                        The Girl with the Red Scarf\n",
      "9   1979            8.7                          Tinker Tailor Soldier Spy\n",
      "10  1980            9.3                                             Cosmos\n",
      "11  1981            8.6                            Raiders of the Lost Ark\n",
      "12  1982            9.0                                The Marathon Family\n",
      "13  1983            8.6                                 Who Pays the Piper\n",
      "14  1984            8.9                                         Balkan Spy\n",
      "15  1985            8.8                                The Broken Landlord\n",
      "16  1986            8.6                                  A Little Princess\n",
      "17  1987            8.8                                            Nayakan\n",
      "18  1988            9.0                                     Heart of a Dog\n",
      "19  1989            9.2                                      The Decalogue\n",
      "20  1990            9.4                                      The Civil War\n",
      "21  1991            8.7                                          Sandesham\n",
      "22  1992            8.9  Michael Jackson Live in Bucharest: The Dangero...\n",
      "23  1993            8.9                                   Schindler's List\n",
      "24  1994            9.3                           The Shawshank Redemption\n",
      "25  1995            9.1                                Pride and Prejudice\n",
      "26  1996            9.0                                     Prerokbe Ognja\n",
      "27  1997            8.7                  The Nazis: A Warning from History\n",
      "28  1998            8.9                         From the Earth to the Moon\n",
      "29  1999            8.9                                         Fight Club\n",
      "30  2000            8.5                                          Gladiator\n",
      "31  2001            9.6                                   Band of Brothers\n",
      "32  2002            8.7              The Lord of the Rings: The Two Towers\n",
      "33  2003            8.9      The Lord of the Rings: The Return of the King\n",
      "34  2004            9.0                                      North & South\n",
      "35  2005            8.7                               My Father and My Son\n",
      "36  2006            9.5                                       Planet Earth\n",
      "37  2007            9.0                                            The War\n",
      "38  2008            9.0                                    The Dark Knight\n",
      "39  2009            9.2                                               Life\n",
      "40  2010            8.8                                          Inception\n",
      "41  2011            9.2                                       Human Planet\n",
      "42  2012            8.8  Shining Night: A Portrait of Composer Morten L...\n",
      "43  2013            8.9                                           Drishyam\n",
      "44  2014            9.2                               Over the Garden Wall\n",
      "45  2015            9.4          A Brave Heart: The Lizzie Velasquez Story\n"
     ]
    }
   ],
   "source": [
    "# Define the aggregation pipeline\n",
    "pipeline = [\n",
    "    # Ensure we only consider movies with valid numeric IMDb ratings and released from 1970 onwards\n",
    "    {\"$match\": {\n",
    "        \"year\": {\"$gte\": 1970},\n",
    "        \"imdb.rating\": {\"$exists\": True, \"$type\": \"number\"}\n",
    "    }},\n",
    "    # Sort by year and IMDb rating\n",
    "    {\"$sort\": {\"year\": 1, \"imdb.rating\": -1}},\n",
    "    # Group by year to get the highest-rated movie for each year\n",
    "    {\"$group\": {\n",
    "        \"_id\": \"$year\",\n",
    "        \"highestRating\": {\"$first\": \"$imdb.rating\"},\n",
    "        \"title\": {\"$first\": \"$title\"}\n",
    "    }},\n",
    "    # Sort the results by year for readability\n",
    "    {\"$sort\": {\"_id\": 1}}\n",
    "]\n",
    "\n",
    "df = pd.DataFrame(list(movies.aggregate(pipeline)))\n",
    "\n",
    "print(df)\n",
    "        "
   ]
  },
  {
   "cell_type": "markdown",
   "id": "221cb4cb-a129-4db5-a69f-da0065035a73",
   "metadata": {},
   "source": [
    "# Complex Query 2:\n",
    "**Show each of the movie genres in order of average IMDB rating (descending). Include the average rating in the output."
   ]
  },
  {
   "cell_type": "code",
   "execution_count": 78,
   "id": "fed1379d-4169-42f7-a6ad-7f7056f1f6d6",
   "metadata": {
    "tags": []
   },
   "outputs": [
    {
     "name": "stdout",
     "output_type": "stream",
     "text": [
      "Genre: Film-Noir, Average IMDB Rating: 7.50\n",
      "Genre: Documentary, Average IMDB Rating: 7.37\n",
      "Genre: Short, Average IMDB Rating: 7.36\n",
      "Genre: News, Average IMDB Rating: 7.25\n",
      "Genre: History, Average IMDB Rating: 7.20\n",
      "Genre: War, Average IMDB Rating: 7.18\n",
      "Genre: Biography, Average IMDB Rating: 7.10\n",
      "Genre: Talk-Show, Average IMDB Rating: 7.00\n",
      "Genre: Music, Average IMDB Rating: 6.92\n",
      "Genre: Animation, Average IMDB Rating: 6.92\n",
      "Genre: Western, Average IMDB Rating: 6.88\n",
      "Genre: Drama, Average IMDB Rating: 6.83\n",
      "Genre: Sport, Average IMDB Rating: 6.78\n",
      "Genre: Crime, Average IMDB Rating: 6.73\n",
      "Genre: Musical, Average IMDB Rating: 6.70\n",
      "Genre: Romance, Average IMDB Rating: 6.70\n",
      "Genre: Mystery, Average IMDB Rating: 6.56\n",
      "Genre: Adventure, Average IMDB Rating: 6.53\n",
      "Genre: Comedy, Average IMDB Rating: 6.48\n",
      "Genre: Fantasy, Average IMDB Rating: 6.42\n",
      "Genre: Action, Average IMDB Rating: 6.38\n",
      "Genre: Family, Average IMDB Rating: 6.36\n",
      "Genre: Thriller, Average IMDB Rating: 6.32\n",
      "Genre: Sci-Fi, Average IMDB Rating: 6.14\n",
      "Genre: Horror, Average IMDB Rating: 5.84\n"
     ]
    }
   ],
   "source": [
    "# Define the aggregation pipeline\n",
    "pipeline = [\n",
    "    {\"$match\": {\"imdb.rating\": {\"$type\": \"number\"}}},  # Ensure imdb.rating is a number\n",
    "    {\"$unwind\": \"$genres\"}, #unwind genres to make sub-doc\n",
    "    {\"$group\": {\n",
    "        \"_id\": \"$genres\",\n",
    "        \"averageRating\": {\"$avg\": \"$imdb.rating\"}\n",
    "    }},\n",
    "    {\"$sort\": {\"averageRating\": -1}}\n",
    "]\n",
    "\n",
    "# Execute the aggregation pipeline & print the results\n",
    "for genre in movies.aggregate(pipeline):\n",
    "    print(f\"Genre: {genre['_id']}, Average IMDB Rating: {genre['averageRating']:.2f}\")"
   ]
  },
  {
   "cell_type": "markdown",
   "id": "1d0aa21c-45c9-4c11-ad7d-ac5216e109b1",
   "metadata": {},
   "source": [
    "# Complex Query 3:\n",
    "**Analyze commenter trends and present in a manner that would be digestible by C-suite members. This exercise is purposefully open-ended to give you a chance to be creative; however, as an example, imagine a scenario where we are IMDB and movie studios pay us when consumers comment on their movies. What traits (e.g., genre, cast, release date, etc.) do the movies that perform well share? What types of movies should we focus marketing spend on to bring more attention to?"
   ]
  },
  {
   "cell_type": "code",
   "execution_count": 100,
   "id": "5192c27b-c61d-4903-821c-91d94400313a",
   "metadata": {
    "tags": []
   },
   "outputs": [
    {
     "name": "stdout",
     "output_type": "stream",
     "text": [
      "   comment_count                  movie_id                       title  \\\n",
      "0            161  573a13bff29313caabd5e91e  The Taking of Pelham 1 2 3   \n",
      "1            158  573a13b3f29313caabd3b647        Terminator Salvation   \n",
      "2            158  573a13a3f29313caabd0d1e3              Ocean's Eleven   \n",
      "3            158  573a13abf29313caabd25582              50 First Dates   \n",
      "4            158  573a13a5f29313caabd159a9                 About a Boy   \n",
      "\n",
      "                      genres imdb_rating  \n",
      "0  [Action, Crime, Thriller]         6.4  \n",
      "1           [Action, Sci-Fi]         6.7  \n",
      "2          [Crime, Thriller]         7.8  \n",
      "3          [Comedy, Romance]         6.8  \n",
      "4   [Comedy, Drama, Romance]         7.1  \n"
     ]
    }
   ],
   "source": [
    "# Define the aggregation pipeline for joining comments counts with movies\n",
    "pipeline = [\n",
    "    # Step 1: Group comments by movie_id and count them\n",
    "    {\n",
    "        \"$group\": {\n",
    "            \"_id\": \"$movie_id\",\n",
    "            \"comment_count\": {\"$sum\": 1}\n",
    "        }\n",
    "    },\n",
    "    # Step 2: Perform the lookup (join) with the movies collection\n",
    "    {\n",
    "        \"$lookup\": {\n",
    "            \"from\": \"movies\",  # Specify the collection to join with\n",
    "            \"localField\": \"_id\",  # The field from the comments (this pipeline) for matching\n",
    "            \"foreignField\": \"_id\",  # The matching field from the movies collection\n",
    "            \"as\": \"movie_details\"  # The output array field with joined document\n",
    "        }\n",
    "    },\n",
    "    # Step 3: Unwind movie_details to make sub-document instead of an array\n",
    "    {\n",
    "        \"$unwind\": \"$movie_details\"\n",
    "    },\n",
    "    # Step 4: Project the desired fields\n",
    "    {\n",
    "        \"$project\": {\n",
    "            \"_id\": 0,\n",
    "            \"movie_id\": \"$_id\",\n",
    "            \"comment_count\": 1,\n",
    "            \"title\": \"$movie_details.title\",\n",
    "            \"genres\": \"$movie_details.genres\",\n",
    "            \"imdb_rating\": \"$movie_details.imdb.rating\"\n",
    "            # Add any other movie details you want to include\n",
    "        }\n",
    "    },\n",
    "    # Step 5: Sort, limit, or filter the results as needed\n",
    "    {\n",
    "        \"$sort\": {\"comment_count\": -1}  # Sorting by comment count in descending order\n",
    "    }\n",
    "]\n",
    "\n",
    "# Execute the aggregation pipeline\n",
    "joined_results = db.comments.aggregate(pipeline)\n",
    "\n",
    "# You can convert it to a list for easier handling in Python\n",
    "results_list = list(joined_results)\n",
    "\n",
    "# Convert the list into a DataFrame\n",
    "df = pd.DataFrame(results_list)\n",
    "\n",
    "# Display the DataFrame\n",
    "print(df.head())  # .head() to display the first few rows\n"
   ]
  },
  {
   "cell_type": "markdown",
   "id": "b434a88b-4fab-484b-9d16-9e39d5125faa",
   "metadata": {},
   "source": [
    "**Pull back top 10 most commented on movies "
   ]
  },
  {
   "cell_type": "code",
   "execution_count": 102,
   "id": "b3375957-0e87-4cf2-99eb-fd4d479ba613",
   "metadata": {
    "tags": []
   },
   "outputs": [
    {
     "data": {
      "text/html": [
       "<div>\n",
       "<style scoped>\n",
       "    .dataframe tbody tr th:only-of-type {\n",
       "        vertical-align: middle;\n",
       "    }\n",
       "\n",
       "    .dataframe tbody tr th {\n",
       "        vertical-align: top;\n",
       "    }\n",
       "\n",
       "    .dataframe thead th {\n",
       "        text-align: right;\n",
       "    }\n",
       "</style>\n",
       "<table border=\"1\" class=\"dataframe\">\n",
       "  <thead>\n",
       "    <tr style=\"text-align: right;\">\n",
       "      <th></th>\n",
       "      <th>comment_count</th>\n",
       "      <th>movie_id</th>\n",
       "      <th>title</th>\n",
       "      <th>genres</th>\n",
       "      <th>imdb_rating</th>\n",
       "    </tr>\n",
       "  </thead>\n",
       "  <tbody>\n",
       "    <tr>\n",
       "      <th>0</th>\n",
       "      <td>161</td>\n",
       "      <td>573a13bff29313caabd5e91e</td>\n",
       "      <td>The Taking of Pelham 1 2 3</td>\n",
       "      <td>[Action, Crime, Thriller]</td>\n",
       "      <td>6.4</td>\n",
       "    </tr>\n",
       "    <tr>\n",
       "      <th>1</th>\n",
       "      <td>158</td>\n",
       "      <td>573a13a5f29313caabd159a9</td>\n",
       "      <td>About a Boy</td>\n",
       "      <td>[Comedy, Drama, Romance]</td>\n",
       "      <td>7.1</td>\n",
       "    </tr>\n",
       "    <tr>\n",
       "      <th>2</th>\n",
       "      <td>158</td>\n",
       "      <td>573a13b3f29313caabd3b647</td>\n",
       "      <td>Terminator Salvation</td>\n",
       "      <td>[Action, Sci-Fi]</td>\n",
       "      <td>6.7</td>\n",
       "    </tr>\n",
       "    <tr>\n",
       "      <th>3</th>\n",
       "      <td>158</td>\n",
       "      <td>573a13abf29313caabd25582</td>\n",
       "      <td>50 First Dates</td>\n",
       "      <td>[Comedy, Romance]</td>\n",
       "      <td>6.8</td>\n",
       "    </tr>\n",
       "    <tr>\n",
       "      <th>4</th>\n",
       "      <td>158</td>\n",
       "      <td>573a13a3f29313caabd0d1e3</td>\n",
       "      <td>Ocean's Eleven</td>\n",
       "      <td>[Crime, Thriller]</td>\n",
       "      <td>7.8</td>\n",
       "    </tr>\n",
       "    <tr>\n",
       "      <th>5</th>\n",
       "      <td>157</td>\n",
       "      <td>573a13bcf29313caabd57db6</td>\n",
       "      <td>Sherlock Holmes</td>\n",
       "      <td>[Action, Adventure, Crime]</td>\n",
       "      <td>7.6</td>\n",
       "    </tr>\n",
       "    <tr>\n",
       "      <th>6</th>\n",
       "      <td>157</td>\n",
       "      <td>573a139bf29313caabcf3a45</td>\n",
       "      <td>The Mummy</td>\n",
       "      <td>[Action, Adventure, Fantasy]</td>\n",
       "      <td>7.0</td>\n",
       "    </tr>\n",
       "    <tr>\n",
       "      <th>7</th>\n",
       "      <td>155</td>\n",
       "      <td>573a13b0f29313caabd3505e</td>\n",
       "      <td>Hellboy II: The Golden Army</td>\n",
       "      <td>[Action, Adventure, Fantasy]</td>\n",
       "      <td>7.0</td>\n",
       "    </tr>\n",
       "    <tr>\n",
       "      <th>8</th>\n",
       "      <td>154</td>\n",
       "      <td>573a13a0f29313caabd05ae1</td>\n",
       "      <td>The Mummy Returns</td>\n",
       "      <td>[Action, Adventure, Fantasy]</td>\n",
       "      <td>6.3</td>\n",
       "    </tr>\n",
       "    <tr>\n",
       "      <th>9</th>\n",
       "      <td>154</td>\n",
       "      <td>573a13acf29313caabd289b3</td>\n",
       "      <td>Anchorman: The Legend of Ron Burgundy</td>\n",
       "      <td>[Comedy]</td>\n",
       "      <td>7.3</td>\n",
       "    </tr>\n",
       "  </tbody>\n",
       "</table>\n",
       "</div>"
      ],
      "text/plain": [
       "   comment_count                  movie_id  \\\n",
       "0            161  573a13bff29313caabd5e91e   \n",
       "1            158  573a13a5f29313caabd159a9   \n",
       "2            158  573a13b3f29313caabd3b647   \n",
       "3            158  573a13abf29313caabd25582   \n",
       "4            158  573a13a3f29313caabd0d1e3   \n",
       "5            157  573a13bcf29313caabd57db6   \n",
       "6            157  573a139bf29313caabcf3a45   \n",
       "7            155  573a13b0f29313caabd3505e   \n",
       "8            154  573a13a0f29313caabd05ae1   \n",
       "9            154  573a13acf29313caabd289b3   \n",
       "\n",
       "                                   title                        genres  \\\n",
       "0             The Taking of Pelham 1 2 3     [Action, Crime, Thriller]   \n",
       "1                            About a Boy      [Comedy, Drama, Romance]   \n",
       "2                   Terminator Salvation              [Action, Sci-Fi]   \n",
       "3                         50 First Dates             [Comedy, Romance]   \n",
       "4                         Ocean's Eleven             [Crime, Thriller]   \n",
       "5                        Sherlock Holmes    [Action, Adventure, Crime]   \n",
       "6                              The Mummy  [Action, Adventure, Fantasy]   \n",
       "7            Hellboy II: The Golden Army  [Action, Adventure, Fantasy]   \n",
       "8                      The Mummy Returns  [Action, Adventure, Fantasy]   \n",
       "9  Anchorman: The Legend of Ron Burgundy                      [Comedy]   \n",
       "\n",
       "   imdb_rating  \n",
       "0          6.4  \n",
       "1          7.1  \n",
       "2          6.7  \n",
       "3          6.8  \n",
       "4          7.8  \n",
       "5          7.6  \n",
       "6          7.0  \n",
       "7          7.0  \n",
       "8          6.3  \n",
       "9          7.3  "
      ]
     },
     "execution_count": 102,
     "metadata": {},
     "output_type": "execute_result"
    }
   ],
   "source": [
    "pipeline_top = pipeline + [{\"$limit\": 10}] \n",
    "\n",
    "top_results = list(db.comments.aggregate(pipeline_top))\n",
    "\n",
    "df_top = pd.DataFrame(top_results)\n",
    "\n",
    "df_top"
   ]
  },
  {
   "cell_type": "markdown",
   "id": "e6354150-bffb-42ad-8337-3c5390a3bc3f",
   "metadata": {},
   "source": [
    "Findings:\n",
    "    Action and Adventure draw engagement\n",
    "    Well known titles with significant marketing budgets\n",
    "    Presence of big name stars or titles part of a series"
   ]
  },
  {
   "cell_type": "markdown",
   "id": "13e93642-9fd7-4118-9f44-4a51e049c45f",
   "metadata": {},
   "source": [
    "**identify 10 least commented on movies"
   ]
  },
  {
   "cell_type": "code",
   "execution_count": 107,
   "id": "27a885aa-c6bc-4c9a-848b-3be29a375e1e",
   "metadata": {
    "tags": []
   },
   "outputs": [
    {
     "data": {
      "text/html": [
       "<div>\n",
       "<style scoped>\n",
       "    .dataframe tbody tr th:only-of-type {\n",
       "        vertical-align: middle;\n",
       "    }\n",
       "\n",
       "    .dataframe tbody tr th {\n",
       "        vertical-align: top;\n",
       "    }\n",
       "\n",
       "    .dataframe thead th {\n",
       "        text-align: right;\n",
       "    }\n",
       "</style>\n",
       "<table border=\"1\" class=\"dataframe\">\n",
       "  <thead>\n",
       "    <tr style=\"text-align: right;\">\n",
       "      <th></th>\n",
       "      <th>comment_count</th>\n",
       "      <th>movie_id</th>\n",
       "      <th>title</th>\n",
       "      <th>genres</th>\n",
       "      <th>imdb_rating</th>\n",
       "    </tr>\n",
       "  </thead>\n",
       "  <tbody>\n",
       "    <tr>\n",
       "      <th>0</th>\n",
       "      <td>1</td>\n",
       "      <td>573a13bef29313caabd5cf18</td>\n",
       "      <td>The Karamazov Brothers</td>\n",
       "      <td>[Drama]</td>\n",
       "      <td>7.7</td>\n",
       "    </tr>\n",
       "    <tr>\n",
       "      <th>1</th>\n",
       "      <td>1</td>\n",
       "      <td>573a13c3f29313caabd6b23d</td>\n",
       "      <td>The Twilight Saga: Breaking Dawn - Part 1</td>\n",
       "      <td>[Adventure, Drama, Fantasy]</td>\n",
       "      <td>4.9</td>\n",
       "    </tr>\n",
       "    <tr>\n",
       "      <th>2</th>\n",
       "      <td>1</td>\n",
       "      <td>573a1399f29313caabcedd12</td>\n",
       "      <td>Lush Life</td>\n",
       "      <td>[Drama]</td>\n",
       "      <td>6.7</td>\n",
       "    </tr>\n",
       "    <tr>\n",
       "      <th>3</th>\n",
       "      <td>1</td>\n",
       "      <td>573a13a7f29313caabd1a90b</td>\n",
       "      <td>Drive</td>\n",
       "      <td>[Crime]</td>\n",
       "      <td>7.2</td>\n",
       "    </tr>\n",
       "    <tr>\n",
       "      <th>4</th>\n",
       "      <td>1</td>\n",
       "      <td>573a13bef29313caabd5d304</td>\n",
       "      <td>The Wackness</td>\n",
       "      <td>[Comedy, Drama, Romance]</td>\n",
       "      <td>7.0</td>\n",
       "    </tr>\n",
       "    <tr>\n",
       "      <th>5</th>\n",
       "      <td>1</td>\n",
       "      <td>573a13aef29313caabd2e720</td>\n",
       "      <td>Rosario Tijeras</td>\n",
       "      <td>[Crime, Drama, Romance]</td>\n",
       "      <td>6.4</td>\n",
       "    </tr>\n",
       "    <tr>\n",
       "      <th>6</th>\n",
       "      <td>1</td>\n",
       "      <td>573a139af29313caabcf0375</td>\n",
       "      <td>Viva Erotica</td>\n",
       "      <td>[Comedy, Drama]</td>\n",
       "      <td>6.7</td>\n",
       "    </tr>\n",
       "    <tr>\n",
       "      <th>7</th>\n",
       "      <td>1</td>\n",
       "      <td>573a13bcf29313caabd5784f</td>\n",
       "      <td>The Chronicles of Narnia: The Voyage of the Da...</td>\n",
       "      <td>[Adventure, Family, Fantasy]</td>\n",
       "      <td>6.3</td>\n",
       "    </tr>\n",
       "    <tr>\n",
       "      <th>8</th>\n",
       "      <td>1</td>\n",
       "      <td>573a13b5f29313caabd41f54</td>\n",
       "      <td>Khosla's Nest</td>\n",
       "      <td>[Comedy, Crime, Drama]</td>\n",
       "      <td>8.4</td>\n",
       "    </tr>\n",
       "    <tr>\n",
       "      <th>9</th>\n",
       "      <td>1</td>\n",
       "      <td>573a1399f29313caabcec434</td>\n",
       "      <td>Wild at Heart</td>\n",
       "      <td>[Comedy, Crime, Thriller]</td>\n",
       "      <td>7.3</td>\n",
       "    </tr>\n",
       "  </tbody>\n",
       "</table>\n",
       "</div>"
      ],
      "text/plain": [
       "   comment_count                  movie_id  \\\n",
       "0              1  573a13bef29313caabd5cf18   \n",
       "1              1  573a13c3f29313caabd6b23d   \n",
       "2              1  573a1399f29313caabcedd12   \n",
       "3              1  573a13a7f29313caabd1a90b   \n",
       "4              1  573a13bef29313caabd5d304   \n",
       "5              1  573a13aef29313caabd2e720   \n",
       "6              1  573a139af29313caabcf0375   \n",
       "7              1  573a13bcf29313caabd5784f   \n",
       "8              1  573a13b5f29313caabd41f54   \n",
       "9              1  573a1399f29313caabcec434   \n",
       "\n",
       "                                               title  \\\n",
       "0                             The Karamazov Brothers   \n",
       "1          The Twilight Saga: Breaking Dawn - Part 1   \n",
       "2                                          Lush Life   \n",
       "3                                              Drive   \n",
       "4                                       The Wackness   \n",
       "5                                    Rosario Tijeras   \n",
       "6                                       Viva Erotica   \n",
       "7  The Chronicles of Narnia: The Voyage of the Da...   \n",
       "8                                      Khosla's Nest   \n",
       "9                                      Wild at Heart   \n",
       "\n",
       "                         genres  imdb_rating  \n",
       "0                       [Drama]          7.7  \n",
       "1   [Adventure, Drama, Fantasy]          4.9  \n",
       "2                       [Drama]          6.7  \n",
       "3                       [Crime]          7.2  \n",
       "4      [Comedy, Drama, Romance]          7.0  \n",
       "5       [Crime, Drama, Romance]          6.4  \n",
       "6               [Comedy, Drama]          6.7  \n",
       "7  [Adventure, Family, Fantasy]          6.3  \n",
       "8        [Comedy, Crime, Drama]          8.4  \n",
       "9     [Comedy, Crime, Thriller]          7.3  "
      ]
     },
     "execution_count": 107,
     "metadata": {},
     "output_type": "execute_result"
    }
   ],
   "source": [
    "# Modify the sorting step for least commented movies\n",
    "pipeline_least = pipeline[:-1] + [{\"$sort\": {\"comment_count\": 1}}, {\"$limit\": 10}]\n",
    "\n",
    "# Execute the aggregation pipeline for least 10 commented movies\n",
    "least_results = list(db.comments.aggregate(pipeline_least))\n",
    "\n",
    "# Convert to DataFrame\n",
    "df_least = pd.DataFrame(least_results)\n",
    "\n",
    "df_least"
   ]
  },
  {
   "cell_type": "markdown",
   "id": "f3df0040-b43d-4d90-9368-530c91ff0744",
   "metadata": {},
   "source": [
    "Findings:\n",
    "    Diverse Genres but lower engagement\n",
    "    IMDb ratings not always correlated with engagement\n",
    "    possible lack of promotional activity"
   ]
  },
  {
   "cell_type": "markdown",
   "id": "fb50a6e3-7b7f-4111-887c-a1e4c7c7d6de",
   "metadata": {},
   "source": [
    "**Identify which Genre is most commented on"
   ]
  },
  {
   "cell_type": "code",
   "execution_count": 118,
   "id": "a4f3ca30-a017-4b04-871d-a705d4938b03",
   "metadata": {
    "tags": []
   },
   "outputs": [],
   "source": [
    "#Join Comments and movies\n",
    "lookup_movies = {\n",
    "    \"$lookup\": {\n",
    "        \"from\": \"movies\",  # the collection to join\n",
    "        \"localField\": \"movie_id\",  # the field from the comments collection\n",
    "        \"foreignField\": \"_id\",  # the matching field from the movies collection\n",
    "        \"as\": \"movie\"  # the output array field\n",
    "    }}\n",
    "\n",
    "# Step 2: Unwind the result of the join to treat each matched movie as a separate document\n",
    "unwind_movie = {\n",
    "    \"$unwind\": \"$movie\"\n",
    "}\n",
    "\n",
    "# Now include the previously defined operations\n",
    "unwind_genres = {\n",
    "    \"$unwind\": \"$movie.genres\"  # Adjusted to unwind genres from the movie document\n",
    "}\n",
    "\n",
    "group_by_genre = {\n",
    "    \"$group\": {\n",
    "        \"_id\": \"$movie.genres\",\n",
    "        \"comment_count\": {\"$sum\": 1},  # Count comments for each genre\n",
    "        \"average_imdb_rating\": {\"$avg\": \"$movie.imdb.rating\"}  # Calculate average IMDb rating\n",
    "    }}\n",
    "\n",
    "sort_by_comment_count = {\n",
    "    \"$sort\": {\"comment_count\": -1}  # Sort by average comments in descending order\n",
    "}\n",
    "\n",
    "# Assemble the updated pipeline\n",
    "genre_analysis_pipeline = [\n",
    "    lookup_movies,\n",
    "    unwind_movie,\n",
    "    unwind_genres,\n",
    "    group_by_genre,\n",
    "    sort_by_comment_count\n",
    "]"
   ]
  },
  {
   "cell_type": "code",
   "execution_count": 119,
   "id": "9dd662a4-e3f9-462e-b606-2f6e6094d167",
   "metadata": {
    "tags": []
   },
   "outputs": [],
   "source": [
    "# Execute the pipeline\n",
    "genre_analysis_results = list(db.comments.aggregate(genre_analysis_pipeline))\n"
   ]
  },
  {
   "cell_type": "code",
   "execution_count": 121,
   "id": "3785a80f-9e3c-491b-b502-da8ed98a7d66",
   "metadata": {
    "tags": []
   },
   "outputs": [
    {
     "data": {
      "text/html": [
       "<div>\n",
       "<style scoped>\n",
       "    .dataframe tbody tr th:only-of-type {\n",
       "        vertical-align: middle;\n",
       "    }\n",
       "\n",
       "    .dataframe tbody tr th {\n",
       "        vertical-align: top;\n",
       "    }\n",
       "\n",
       "    .dataframe thead th {\n",
       "        text-align: right;\n",
       "    }\n",
       "</style>\n",
       "<table border=\"1\" class=\"dataframe\">\n",
       "  <thead>\n",
       "    <tr style=\"text-align: right;\">\n",
       "      <th></th>\n",
       "      <th>_id</th>\n",
       "      <th>comment_count</th>\n",
       "      <th>average_imdb_rating</th>\n",
       "    </tr>\n",
       "  </thead>\n",
       "  <tbody>\n",
       "    <tr>\n",
       "      <th>0</th>\n",
       "      <td>Comedy</td>\n",
       "      <td>15607</td>\n",
       "      <td>6.655688</td>\n",
       "    </tr>\n",
       "    <tr>\n",
       "      <th>1</th>\n",
       "      <td>Drama</td>\n",
       "      <td>12988</td>\n",
       "      <td>7.239292</td>\n",
       "    </tr>\n",
       "    <tr>\n",
       "      <th>2</th>\n",
       "      <td>Adventure</td>\n",
       "      <td>12423</td>\n",
       "      <td>7.193464</td>\n",
       "    </tr>\n",
       "    <tr>\n",
       "      <th>3</th>\n",
       "      <td>Action</td>\n",
       "      <td>11481</td>\n",
       "      <td>7.039930</td>\n",
       "    </tr>\n",
       "    <tr>\n",
       "      <th>4</th>\n",
       "      <td>Fantasy</td>\n",
       "      <td>6988</td>\n",
       "      <td>7.200630</td>\n",
       "    </tr>\n",
       "    <tr>\n",
       "      <th>5</th>\n",
       "      <td>Romance</td>\n",
       "      <td>5750</td>\n",
       "      <td>6.820351</td>\n",
       "    </tr>\n",
       "    <tr>\n",
       "      <th>6</th>\n",
       "      <td>Thriller</td>\n",
       "      <td>5691</td>\n",
       "      <td>7.048567</td>\n",
       "    </tr>\n",
       "    <tr>\n",
       "      <th>7</th>\n",
       "      <td>Crime</td>\n",
       "      <td>5025</td>\n",
       "      <td>7.272677</td>\n",
       "    </tr>\n",
       "    <tr>\n",
       "      <th>8</th>\n",
       "      <td>Family</td>\n",
       "      <td>4748</td>\n",
       "      <td>6.854666</td>\n",
       "    </tr>\n",
       "    <tr>\n",
       "      <th>9</th>\n",
       "      <td>Sci-Fi</td>\n",
       "      <td>4544</td>\n",
       "      <td>7.052884</td>\n",
       "    </tr>\n",
       "    <tr>\n",
       "      <th>10</th>\n",
       "      <td>Animation</td>\n",
       "      <td>3962</td>\n",
       "      <td>7.348157</td>\n",
       "    </tr>\n",
       "    <tr>\n",
       "      <th>11</th>\n",
       "      <td>Horror</td>\n",
       "      <td>2324</td>\n",
       "      <td>6.203831</td>\n",
       "    </tr>\n",
       "    <tr>\n",
       "      <th>12</th>\n",
       "      <td>Mystery</td>\n",
       "      <td>2050</td>\n",
       "      <td>6.793600</td>\n",
       "    </tr>\n",
       "    <tr>\n",
       "      <th>13</th>\n",
       "      <td>Biography</td>\n",
       "      <td>1092</td>\n",
       "      <td>7.501008</td>\n",
       "    </tr>\n",
       "    <tr>\n",
       "      <th>14</th>\n",
       "      <td>Sport</td>\n",
       "      <td>1086</td>\n",
       "      <td>6.655576</td>\n",
       "    </tr>\n",
       "    <tr>\n",
       "      <th>15</th>\n",
       "      <td>Music</td>\n",
       "      <td>940</td>\n",
       "      <td>6.740532</td>\n",
       "    </tr>\n",
       "    <tr>\n",
       "      <th>16</th>\n",
       "      <td>War</td>\n",
       "      <td>811</td>\n",
       "      <td>7.639877</td>\n",
       "    </tr>\n",
       "    <tr>\n",
       "      <th>17</th>\n",
       "      <td>Musical</td>\n",
       "      <td>806</td>\n",
       "      <td>6.985112</td>\n",
       "    </tr>\n",
       "    <tr>\n",
       "      <th>18</th>\n",
       "      <td>Documentary</td>\n",
       "      <td>779</td>\n",
       "      <td>7.360026</td>\n",
       "    </tr>\n",
       "    <tr>\n",
       "      <th>19</th>\n",
       "      <td>History</td>\n",
       "      <td>523</td>\n",
       "      <td>7.607869</td>\n",
       "    </tr>\n",
       "    <tr>\n",
       "      <th>20</th>\n",
       "      <td>Short</td>\n",
       "      <td>155</td>\n",
       "      <td>7.336129</td>\n",
       "    </tr>\n",
       "    <tr>\n",
       "      <th>21</th>\n",
       "      <td>Western</td>\n",
       "      <td>106</td>\n",
       "      <td>6.846226</td>\n",
       "    </tr>\n",
       "    <tr>\n",
       "      <th>22</th>\n",
       "      <td>Film-Noir</td>\n",
       "      <td>33</td>\n",
       "      <td>7.606061</td>\n",
       "    </tr>\n",
       "    <tr>\n",
       "      <th>23</th>\n",
       "      <td>News</td>\n",
       "      <td>13</td>\n",
       "      <td>7.353846</td>\n",
       "    </tr>\n",
       "  </tbody>\n",
       "</table>\n",
       "</div>"
      ],
      "text/plain": [
       "            _id  comment_count  average_imdb_rating\n",
       "0        Comedy          15607             6.655688\n",
       "1         Drama          12988             7.239292\n",
       "2     Adventure          12423             7.193464\n",
       "3        Action          11481             7.039930\n",
       "4       Fantasy           6988             7.200630\n",
       "5       Romance           5750             6.820351\n",
       "6      Thriller           5691             7.048567\n",
       "7         Crime           5025             7.272677\n",
       "8        Family           4748             6.854666\n",
       "9        Sci-Fi           4544             7.052884\n",
       "10    Animation           3962             7.348157\n",
       "11       Horror           2324             6.203831\n",
       "12      Mystery           2050             6.793600\n",
       "13    Biography           1092             7.501008\n",
       "14        Sport           1086             6.655576\n",
       "15        Music            940             6.740532\n",
       "16          War            811             7.639877\n",
       "17      Musical            806             6.985112\n",
       "18  Documentary            779             7.360026\n",
       "19      History            523             7.607869\n",
       "20        Short            155             7.336129\n",
       "21      Western            106             6.846226\n",
       "22    Film-Noir             33             7.606061\n",
       "23         News             13             7.353846"
      ]
     },
     "execution_count": 121,
     "metadata": {},
     "output_type": "execute_result"
    }
   ],
   "source": [
    "# Convert to DataFrame\n",
    "df_genre_analysis = pd.DataFrame(genre_analysis_results)\n",
    "\n",
    "df_genre_analysis"
   ]
  },
  {
   "cell_type": "code",
   "execution_count": 123,
   "id": "50f63512-8956-4e03-a156-af142dbb2d7b",
   "metadata": {
    "tags": []
   },
   "outputs": [
    {
     "data": {
      "image/png": "[encoded data removed]",
      "text/plain": [
       "<Figure size 1200x1000 with 1 Axes>"
      ]
     },
     "metadata": {},
     "output_type": "display_data"
    }
   ],
   "source": [
    "# Plot Distribution of comments by Genre in Donut Chart\n",
    "\n",
    "import matplotlib.pyplot as plt\n",
    "\n",
    "genres = df_genre_analysis['_id'].tolist()\n",
    "comment_counts = df_genre_analysis['comment_count'].tolist()\n",
    "\n",
    "# Create a new list for adjusted genre labels and comment counts\n",
    "adjusted_genres = []\n",
    "adjusted_counts = []\n",
    "other_count = 0\n",
    "threshold = 0.04  # Set a threshold for the smallest percentage to display\n",
    "\n",
    "# Sum up small slices into \"Other\" category\n",
    "for genre, count in zip(genres, comment_counts):\n",
    "    if count / sum(comment_counts) < threshold:\n",
    "        other_count += count\n",
    "    else:\n",
    "        adjusted_genres.append(genre)\n",
    "        adjusted_counts.append(count)\n",
    "\n",
    "# If there's an \"Other\" category, add it to the lists\n",
    "if other_count > 0:\n",
    "    adjusted_genres.append('Other')\n",
    "    adjusted_counts.append(other_count)\n",
    "\n",
    "plt.figure(figsize=(12, 10))  # Increase the figure size if needed\n",
    "wedges, texts, autotexts = plt.pie(adjusted_counts, labels=adjusted_genres, autopct=lambda pct: \"{:.1f}%\".format(pct) if pct >= threshold else '',\n",
    "                                   startangle=140, pctdistance=0.85)\n",
    "\n",
    "# Increase the text size\n",
    "plt.setp(texts, size=8)\n",
    "plt.setp(autotexts, size=8, weight=\"bold\")\n",
    "\n",
    "# Draw a circle at the center to make it a donut chart\n",
    "centre_circle = plt.Circle((0,0),0.70,fc='white')\n",
    "fig = plt.gcf()\n",
    "fig.gca().add_artist(centre_circle)\n",
    "\n",
    "plt.title('Distribution of Comments by Genre')\n",
    "plt.axis('equal')  # Ensures that pie is drawn as a circle.\n",
    "plt.show()\n"
   ]
  },
  {
   "cell_type": "markdown",
   "id": "70c939f6-2824-42e2-be9d-803a097e03d7",
   "metadata": {},
   "source": [
    "# Findings:\n",
    "1. Comedy, Drama, and Adventure are the top three most commented genres. This indicates a high audience engagement. This genre could represent the most popular or polarizing movies, prompting viewers to share their opinons. \n",
    "2. While Comedy has the highest number of comments, its average IMDb rating is relatively lower than genres like Drama and Adventure.\n",
    "3. Genres like War, Documentary, and History have lower comment counts but higher IMDb ratings. This could imply that the genres are more niche and have a dedicated audience.\n",
    "\n",
    "# Recommendations\n",
    "1. For Marketing focus, invest more in marketing movies within Comedy, Drama, and Adventure.\n",
    "2. From a Content Strategy perspective, consider acquiring more titles in the War, Documentary, and History genres.This could attract a dedicated audience potentially increasing subscriber retention.\n",
    "3. As a community building recommendation, encourage community discussions around movies with high comment counts to enhance user engagement. i.e. Q&A sessions with directors or actors of a particular movie"
   ]
  }
 ],
 "metadata": {
  "kernelspec": {
   "display_name": "testmojave",
   "language": "python",
   "name": "testmojave"
  },
  "language_info": {
   "codemirror_mode": {
    "name": "ipython",
    "version": 3
   },
   "file_extension": ".py",
   "mimetype": "text/x-python",
   "name": "python",
   "nbconvert_exporter": "python",
   "pygments_lexer": "ipython3",
   "version": "3.9.15"
  }
 },
 "nbformat": 4,
 "nbformat_minor": 5
}
